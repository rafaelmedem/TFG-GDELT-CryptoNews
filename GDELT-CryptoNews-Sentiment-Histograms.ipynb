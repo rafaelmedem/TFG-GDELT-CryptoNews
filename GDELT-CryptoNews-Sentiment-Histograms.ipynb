{
 "cells": [
  {
   "cell_type": "code",
   "execution_count": 1,
   "id": "5b4eac75",
   "metadata": {},
   "outputs": [],
   "source": [
    "import warnings\n",
    "warnings.filterwarnings('ignore')"
   ]
  },
  {
   "cell_type": "code",
   "execution_count": 2,
   "id": "41456659",
   "metadata": {},
   "outputs": [],
   "source": [
    "import pandas as pd\n",
    "import numpy as np\n",
    "import matplotlib.pyplot as plt"
   ]
  },
  {
   "cell_type": "code",
   "execution_count": 3,
   "id": "801e15c8",
   "metadata": {},
   "outputs": [],
   "source": [
    "df = pd.read_excel(\"GDELT-CryptoNews-BQ-and-Bitcoin-ClosingPrice_with_news_WithPretrainedModels_v3.xlsx\")"
   ]
  },
  {
   "cell_type": "code",
   "execution_count": 4,
   "id": "ef9c1a0d",
   "metadata": {},
   "outputs": [
    {
     "data": {
      "text/html": [
       "<div>\n",
       "<style scoped>\n",
       "    .dataframe tbody tr th:only-of-type {\n",
       "        vertical-align: middle;\n",
       "    }\n",
       "\n",
       "    .dataframe tbody tr th {\n",
       "        vertical-align: top;\n",
       "    }\n",
       "\n",
       "    .dataframe thead th {\n",
       "        text-align: right;\n",
       "    }\n",
       "</style>\n",
       "<table border=\"1\" class=\"dataframe\">\n",
       "  <thead>\n",
       "    <tr style=\"text-align: right;\">\n",
       "      <th></th>\n",
       "      <th>ID</th>\n",
       "      <th>Classification</th>\n",
       "      <th>Link</th>\n",
       "      <th>Date</th>\n",
       "      <th>Country</th>\n",
       "      <th>GoldsteinScale</th>\n",
       "      <th>AvgTone</th>\n",
       "      <th>ClosingPrice</th>\n",
       "      <th>news</th>\n",
       "      <th>vader</th>\n",
       "      <th>textblob</th>\n",
       "      <th>finbert_positive</th>\n",
       "      <th>finbert_negative</th>\n",
       "      <th>finbert_neutral</th>\n",
       "    </tr>\n",
       "  </thead>\n",
       "  <tbody>\n",
       "    <tr>\n",
       "      <th>0</th>\n",
       "      <td>1030957178</td>\n",
       "      <td>BITCOIN</td>\n",
       "      <td>https://markets.businessinsider.com/news/curre...</td>\n",
       "      <td>20220228</td>\n",
       "      <td>US</td>\n",
       "      <td>-2.0</td>\n",
       "      <td>-6.798246</td>\n",
       "      <td>43193.23</td>\n",
       "      <td>bitcoin bitconnect fraud ponzi scheme indictme...</td>\n",
       "      <td>-0.5859</td>\n",
       "      <td>-0.100000</td>\n",
       "      <td>0.024758</td>\n",
       "      <td>0.051537</td>\n",
       "      <td>0.923705</td>\n",
       "    </tr>\n",
       "    <tr>\n",
       "      <th>1</th>\n",
       "      <td>1030993451</td>\n",
       "      <td>BITCOIN</td>\n",
       "      <td>https://www.wzzm13.com/article/news/crime/geek...</td>\n",
       "      <td>20220228</td>\n",
       "      <td>XX</td>\n",
       "      <td>0.0</td>\n",
       "      <td>-20.000000</td>\n",
       "      <td>43193.23</td>\n",
       "      <td>geek group president sentenced illegal bitcoin...</td>\n",
       "      <td>-0.6705</td>\n",
       "      <td>-0.500000</td>\n",
       "      <td>0.032705</td>\n",
       "      <td>0.880488</td>\n",
       "      <td>0.086806</td>\n",
       "    </tr>\n",
       "    <tr>\n",
       "      <th>2</th>\n",
       "      <td>1030834711</td>\n",
       "      <td>BITCOIN</td>\n",
       "      <td>https://foreignaffairs.co.nz/2022/02/28/mil-os...</td>\n",
       "      <td>20220228</td>\n",
       "      <td>JM</td>\n",
       "      <td>3.0</td>\n",
       "      <td>2.826511</td>\n",
       "      <td>43193.23</td>\n",
       "      <td>mil osi cs global partners bitcoin heaven el s...</td>\n",
       "      <td>0.5106</td>\n",
       "      <td>0.000000</td>\n",
       "      <td>0.222475</td>\n",
       "      <td>0.009080</td>\n",
       "      <td>0.768445</td>\n",
       "    </tr>\n",
       "    <tr>\n",
       "      <th>3</th>\n",
       "      <td>1030951118</td>\n",
       "      <td>BITCOIN</td>\n",
       "      <td>https://www.newsweek.com/ukraine-military-russ...</td>\n",
       "      <td>20220228</td>\n",
       "      <td>RS</td>\n",
       "      <td>7.0</td>\n",
       "      <td>-1.848233</td>\n",
       "      <td>43193.23</td>\n",
       "      <td>ukraine military russia invasion war 20 millio...</td>\n",
       "      <td>-0.5994</td>\n",
       "      <td>-0.100000</td>\n",
       "      <td>0.031570</td>\n",
       "      <td>0.040041</td>\n",
       "      <td>0.928389</td>\n",
       "    </tr>\n",
       "    <tr>\n",
       "      <th>4</th>\n",
       "      <td>1030838195</td>\n",
       "      <td>BITCOIN</td>\n",
       "      <td>https://economictimes.indiatimes.com/markets/c...</td>\n",
       "      <td>20220228</td>\n",
       "      <td>KS</td>\n",
       "      <td>-0.4</td>\n",
       "      <td>-2.536232</td>\n",
       "      <td>43193.23</td>\n",
       "      <td>bitcoin steady amid ukraine conflict</td>\n",
       "      <td>-0.3182</td>\n",
       "      <td>0.166667</td>\n",
       "      <td>0.473413</td>\n",
       "      <td>0.389700</td>\n",
       "      <td>0.136886</td>\n",
       "    </tr>\n",
       "    <tr>\n",
       "      <th>...</th>\n",
       "      <td>...</td>\n",
       "      <td>...</td>\n",
       "      <td>...</td>\n",
       "      <td>...</td>\n",
       "      <td>...</td>\n",
       "      <td>...</td>\n",
       "      <td>...</td>\n",
       "      <td>...</td>\n",
       "      <td>...</td>\n",
       "      <td>...</td>\n",
       "      <td>...</td>\n",
       "      <td>...</td>\n",
       "      <td>...</td>\n",
       "      <td>...</td>\n",
       "    </tr>\n",
       "    <tr>\n",
       "      <th>27513</th>\n",
       "      <td>813535638</td>\n",
       "      <td>BITCOIN</td>\n",
       "      <td>https://insidebitcoins.com/news/268-andy-bromb...</td>\n",
       "      <td>20190101</td>\n",
       "      <td>XX</td>\n",
       "      <td>1.0</td>\n",
       "      <td>2.298851</td>\n",
       "      <td>3843.52</td>\n",
       "      <td>268 andy bromberg coinlist capital formation f...</td>\n",
       "      <td>0.0000</td>\n",
       "      <td>0.000000</td>\n",
       "      <td>0.064091</td>\n",
       "      <td>0.019060</td>\n",
       "      <td>0.916848</td>\n",
       "    </tr>\n",
       "    <tr>\n",
       "      <th>27514</th>\n",
       "      <td>813515698</td>\n",
       "      <td>CRYPTOCURRENCY</td>\n",
       "      <td>https://hothardware.com/news/nvidia-faces-clas...</td>\n",
       "      <td>20190101</td>\n",
       "      <td>US</td>\n",
       "      <td>4.0</td>\n",
       "      <td>-2.925990</td>\n",
       "      <td>3843.52</td>\n",
       "      <td>nvidia faces class action lawsuit cryptocurren...</td>\n",
       "      <td>-0.2263</td>\n",
       "      <td>0.100000</td>\n",
       "      <td>0.012258</td>\n",
       "      <td>0.930450</td>\n",
       "      <td>0.057292</td>\n",
       "    </tr>\n",
       "    <tr>\n",
       "      <th>27515</th>\n",
       "      <td>813501525</td>\n",
       "      <td>CRYPTOCURRENCY</td>\n",
       "      <td>https://cointelegraph.com/news/us-senator-repo...</td>\n",
       "      <td>20190101</td>\n",
       "      <td>US</td>\n",
       "      <td>0.0</td>\n",
       "      <td>-8.547009</td>\n",
       "      <td>3843.52</td>\n",
       "      <td>us senator reports to jail pending verdict in ...</td>\n",
       "      <td>-0.4939</td>\n",
       "      <td>-0.100000</td>\n",
       "      <td>0.024427</td>\n",
       "      <td>0.816173</td>\n",
       "      <td>0.159400</td>\n",
       "    </tr>\n",
       "    <tr>\n",
       "      <th>27516</th>\n",
       "      <td>813517140</td>\n",
       "      <td>CRYPTOCURRENCY</td>\n",
       "      <td>http://en.rfi.fr/africa/20190101-cameroon-sepa...</td>\n",
       "      <td>20190101</td>\n",
       "      <td>US</td>\n",
       "      <td>-2.0</td>\n",
       "      <td>0.640548</td>\n",
       "      <td>3843.52</td>\n",
       "      <td>20190101 cameroon separatists sell ambazonia c...</td>\n",
       "      <td>0.0000</td>\n",
       "      <td>0.000000</td>\n",
       "      <td>0.071013</td>\n",
       "      <td>0.156736</td>\n",
       "      <td>0.772251</td>\n",
       "    </tr>\n",
       "    <tr>\n",
       "      <th>27517</th>\n",
       "      <td>813467504</td>\n",
       "      <td>CRYPTOCURRENCY</td>\n",
       "      <td>https://www.financemagnates.com/cryptocurrency...</td>\n",
       "      <td>20190101</td>\n",
       "      <td>IR</td>\n",
       "      <td>-4.4</td>\n",
       "      <td>-3.773585</td>\n",
       "      <td>3843.52</td>\n",
       "      <td>iran criminalizes use of telegrams cryptocurrency</td>\n",
       "      <td>0.0000</td>\n",
       "      <td>0.000000</td>\n",
       "      <td>0.020138</td>\n",
       "      <td>0.332043</td>\n",
       "      <td>0.647819</td>\n",
       "    </tr>\n",
       "  </tbody>\n",
       "</table>\n",
       "<p>27518 rows × 14 columns</p>\n",
       "</div>"
      ],
      "text/plain": [
       "               ID  Classification  \\\n",
       "0      1030957178         BITCOIN   \n",
       "1      1030993451         BITCOIN   \n",
       "2      1030834711         BITCOIN   \n",
       "3      1030951118         BITCOIN   \n",
       "4      1030838195         BITCOIN   \n",
       "...           ...             ...   \n",
       "27513   813535638         BITCOIN   \n",
       "27514   813515698  CRYPTOCURRENCY   \n",
       "27515   813501525  CRYPTOCURRENCY   \n",
       "27516   813517140  CRYPTOCURRENCY   \n",
       "27517   813467504  CRYPTOCURRENCY   \n",
       "\n",
       "                                                    Link      Date Country  \\\n",
       "0      https://markets.businessinsider.com/news/curre...  20220228      US   \n",
       "1      https://www.wzzm13.com/article/news/crime/geek...  20220228      XX   \n",
       "2      https://foreignaffairs.co.nz/2022/02/28/mil-os...  20220228      JM   \n",
       "3      https://www.newsweek.com/ukraine-military-russ...  20220228      RS   \n",
       "4      https://economictimes.indiatimes.com/markets/c...  20220228      KS   \n",
       "...                                                  ...       ...     ...   \n",
       "27513  https://insidebitcoins.com/news/268-andy-bromb...  20190101      XX   \n",
       "27514  https://hothardware.com/news/nvidia-faces-clas...  20190101      US   \n",
       "27515  https://cointelegraph.com/news/us-senator-repo...  20190101      US   \n",
       "27516  http://en.rfi.fr/africa/20190101-cameroon-sepa...  20190101      US   \n",
       "27517  https://www.financemagnates.com/cryptocurrency...  20190101      IR   \n",
       "\n",
       "       GoldsteinScale    AvgTone  ClosingPrice  \\\n",
       "0                -2.0  -6.798246      43193.23   \n",
       "1                 0.0 -20.000000      43193.23   \n",
       "2                 3.0   2.826511      43193.23   \n",
       "3                 7.0  -1.848233      43193.23   \n",
       "4                -0.4  -2.536232      43193.23   \n",
       "...               ...        ...           ...   \n",
       "27513             1.0   2.298851       3843.52   \n",
       "27514             4.0  -2.925990       3843.52   \n",
       "27515             0.0  -8.547009       3843.52   \n",
       "27516            -2.0   0.640548       3843.52   \n",
       "27517            -4.4  -3.773585       3843.52   \n",
       "\n",
       "                                                    news   vader  textblob  \\\n",
       "0      bitcoin bitconnect fraud ponzi scheme indictme... -0.5859 -0.100000   \n",
       "1      geek group president sentenced illegal bitcoin... -0.6705 -0.500000   \n",
       "2      mil osi cs global partners bitcoin heaven el s...  0.5106  0.000000   \n",
       "3      ukraine military russia invasion war 20 millio... -0.5994 -0.100000   \n",
       "4                   bitcoin steady amid ukraine conflict -0.3182  0.166667   \n",
       "...                                                  ...     ...       ...   \n",
       "27513  268 andy bromberg coinlist capital formation f...  0.0000  0.000000   \n",
       "27514  nvidia faces class action lawsuit cryptocurren... -0.2263  0.100000   \n",
       "27515  us senator reports to jail pending verdict in ... -0.4939 -0.100000   \n",
       "27516  20190101 cameroon separatists sell ambazonia c...  0.0000  0.000000   \n",
       "27517  iran criminalizes use of telegrams cryptocurrency  0.0000  0.000000   \n",
       "\n",
       "       finbert_positive  finbert_negative  finbert_neutral  \n",
       "0              0.024758          0.051537         0.923705  \n",
       "1              0.032705          0.880488         0.086806  \n",
       "2              0.222475          0.009080         0.768445  \n",
       "3              0.031570          0.040041         0.928389  \n",
       "4              0.473413          0.389700         0.136886  \n",
       "...                 ...               ...              ...  \n",
       "27513          0.064091          0.019060         0.916848  \n",
       "27514          0.012258          0.930450         0.057292  \n",
       "27515          0.024427          0.816173         0.159400  \n",
       "27516          0.071013          0.156736         0.772251  \n",
       "27517          0.020138          0.332043         0.647819  \n",
       "\n",
       "[27518 rows x 14 columns]"
      ]
     },
     "execution_count": 4,
     "metadata": {},
     "output_type": "execute_result"
    }
   ],
   "source": [
    "df"
   ]
  },
  {
   "cell_type": "code",
   "execution_count": 5,
   "id": "4540e74b",
   "metadata": {},
   "outputs": [
    {
     "data": {
      "image/png": "[encoded data removed]",
      "text/plain": [
       "<Figure size 432x288 with 1 Axes>"
      ]
     },
     "metadata": {
      "needs_background": "light"
     },
     "output_type": "display_data"
    }
   ],
   "source": [
    "df.hist(column='vader');"
   ]
  },
  {
   "cell_type": "code",
   "execution_count": 6,
   "id": "af5814ab",
   "metadata": {},
   "outputs": [
    {
     "data": {
      "image/png": "[encoded data removed]",
      "text/plain": [
       "<Figure size 432x288 with 1 Axes>"
      ]
     },
     "metadata": {
      "needs_background": "light"
     },
     "output_type": "display_data"
    }
   ],
   "source": [
    "df.hist(column='textblob');"
   ]
  },
  {
   "cell_type": "code",
   "execution_count": 7,
   "id": "ffc78c79",
   "metadata": {},
   "outputs": [
    {
     "data": {
      "image/png": "[encoded data removed]",
      "text/plain": [
       "<Figure size 432x288 with 1 Axes>"
      ]
     },
     "metadata": {
      "needs_background": "light"
     },
     "output_type": "display_data"
    }
   ],
   "source": [
    "df.hist(column='finbert_positive');"
   ]
  },
  {
   "cell_type": "code",
   "execution_count": 8,
   "id": "e3178723",
   "metadata": {},
   "outputs": [
    {
     "data": {
      "image/png": "[encoded data removed]",
      "text/plain": [
       "<Figure size 432x288 with 1 Axes>"
      ]
     },
     "metadata": {
      "needs_background": "light"
     },
     "output_type": "display_data"
    }
   ],
   "source": [
    "df.hist(column='finbert_negative');"
   ]
  },
  {
   "cell_type": "code",
   "execution_count": 9,
   "id": "df79900d",
   "metadata": {},
   "outputs": [
    {
     "data": {
      "image/png": "[encoded data removed]",
      "text/plain": [
       "<Figure size 432x288 with 1 Axes>"
      ]
     },
     "metadata": {
      "needs_background": "light"
     },
     "output_type": "display_data"
    }
   ],
   "source": [
    "df.hist(column='finbert_neutral');"
   ]
  },
  {
   "cell_type": "code",
   "execution_count": 10,
   "id": "a8e1553a",
   "metadata": {},
   "outputs": [
    {
     "data": {
      "text/plain": [
       "<AxesSubplot:>"
      ]
     },
     "execution_count": 10,
     "metadata": {},
     "output_type": "execute_result"
    },
    {
     "data": {
      "image/png": "[encoded data removed]",
      "text/plain": [
       "<Figure size 432x288 with 1 Axes>"
      ]
     },
     "metadata": {
      "needs_background": "light"
     },
     "output_type": "display_data"
    }
   ],
   "source": [
    "df['vader'].hist()\n",
    "df['textblob'].hist()"
   ]
  },
  {
   "cell_type": "code",
   "execution_count": 11,
   "id": "25a47d26",
   "metadata": {},
   "outputs": [
    {
     "data": {
      "text/plain": [
       "<AxesSubplot:>"
      ]
     },
     "execution_count": 11,
     "metadata": {},
     "output_type": "execute_result"
    },
    {
     "data": {
      "image/png": "[encoded data removed]",
      "text/plain": [
       "<Figure size 432x288 with 1 Axes>"
      ]
     },
     "metadata": {
      "needs_background": "light"
     },
     "output_type": "display_data"
    }
   ],
   "source": [
    "df['finbert_positive'].hist()\n",
    "df['finbert_negative'].hist()\n",
    "df['finbert_neutral'].hist()"
   ]
  },
  {
   "cell_type": "code",
   "execution_count": 12,
   "id": "a6e3c808",
   "metadata": {},
   "outputs": [
    {
     "data": {
      "text/plain": [
       "<AxesSubplot:>"
      ]
     },
     "execution_count": 12,
     "metadata": {},
     "output_type": "execute_result"
    },
    {
     "data": {
      "image/png": "[encoded data removed]",
      "text/plain": [
       "<Figure size 432x288 with 1 Axes>"
      ]
     },
     "metadata": {
      "needs_background": "light"
     },
     "output_type": "display_data"
    }
   ],
   "source": [
    "df['vader'].hist()\n",
    "df['textblob'].hist()\n",
    "df['finbert_positive'].hist()\n",
    "df['finbert_negative'].hist()\n",
    "df['finbert_neutral'].hist()"
   ]
  },
  {
   "cell_type": "code",
   "execution_count": null,
   "id": "70f14e77",
   "metadata": {},
   "outputs": [],
   "source": []
  }
 ],
 "metadata": {
  "kernelspec": {
   "display_name": "Python 3 (ipykernel)",
   "language": "python",
   "name": "python3"
  },
  "language_info": {
   "codemirror_mode": {
    "name": "ipython",
    "version": 3
   },
   "file_extension": ".py",
   "mimetype": "text/x-python",
   "name": "python",
   "nbconvert_exporter": "python",
   "pygments_lexer": "ipython3",
   "version": "3.9.7"
  }
 },
 "nbformat": 4,
 "nbformat_minor": 5
}
